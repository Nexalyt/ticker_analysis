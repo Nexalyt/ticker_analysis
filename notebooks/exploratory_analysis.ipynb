{
 "cells": [
  {
   "cell_type": "code",
   "execution_count": 5,
   "id": "initial_id",
   "metadata": {
    "collapsed": true
   },
   "outputs": [],
   "source": [
    "import streamlit as st\n",
    "\n",
    "from ticker_analysis.data import fetch_earnings_data, fetch_financial_ratios, fetch_revenue_data, fetch_peer_data\n",
    "\n",
    "def main():\n",
    "    st.title(\"Stock Analysis Dashboard\")\n",
    "\n",
    "    # Sidebar inputs\n",
    "    ticker_symbol = st.sidebar.text_input(\"Enter Stock Ticker\", \"AAPL\")\n",
    "    analysis_type = st.sidebar.selectbox(\"Select Analysis Type\", \n",
    "                                         [\"Financial Ratios\", \"Earnings Reports\", \"Revenue & Earnings Growth\", \"Peer Comparison\"])\n",
    "    \n",
    "    if analysis_type == \"Earnings Reports\":\n",
    "        net_income, quarterly_net_income = fetch_earnings_data(ticker_symbol)\n",
    "        st.write(f\"Earnings Data for {ticker_symbol}\")\n",
    "        st.write(\"Annual Net Income:\")\n",
    "        st.dataframe(net_income)\n",
    "        st.write(\"Quarterly Net Income:\")\n",
    "        st.dataframe(quarterly_net_income)\n",
    "    \n",
    "    elif analysis_type == \"Financial Ratios\":\n",
    "        ratios = fetch_financial_ratios(ticker_symbol)\n",
    "        st.write(f\"Financial Ratios for {ticker_symbol}\")\n",
    "        st.dataframe(ratios)\n",
    "    elif analysis_type == \"Revenue & Earnings Growth\":\n",
    "        revenue_growth, earnings_growth = fetch_revenue_data(ticker_symbol)\n",
    "        st.write(f\"Revenue and Earnings Growth for {ticker_symbol}\")\n",
    "        st.write(\"Revenue Growth:\")\n",
    "        st.dataframe(revenue_growth)\n",
    "        st.write(\"Earnings Growth:\")\n",
    "        st.dataframe(earnings_growth)\n",
    "    elif analysis_type == \"Peer Comparison\":\n",
    "        # Fetch peer comparison data\n",
    "        peer_comparison = fetch_peer_data(ticker_symbol)\n",
    "        st.write(f\"Peer Comparison for {ticker_symbol}\")\n",
    "        st.dataframe(peer_comparison)\n",
    "    else:\n",
    "        st.write(\"Select an analysis type from the sidebar\")\n",
    "\n",
    "if __name__ == \"__main__\":\n",
    "    main()\n"
   ]
  },
  {
   "cell_type": "code",
   "execution_count": 9,
   "id": "9157232c",
   "metadata": {},
   "outputs": [
    {
     "name": "stderr",
     "output_type": "stream",
     "text": [
      "/tmp/ipykernel_22207/650105576.py:16: UserWarning: FigureCanvasAgg is non-interactive, and thus cannot be shown\n",
      "  plt.show()\n"
     ]
    }
   ],
   "source": [
    "from matplotlib import pyplot as plt\n",
    "import yfinance as yf\n",
    "\n",
    "def compare_peers(peers):\n",
    "    peer_data = {}\n",
    "    \n",
    "    for ticker_symbol in peers:\n",
    "        ticker = yf.Ticker(ticker_symbol)\n",
    "        pe_ratio = ticker.info.get('trailingPE')\n",
    "        peer_data[ticker_symbol] = pe_ratio\n",
    "    \n",
    "    fig, ax = plt.subplots()\n",
    "    ax.bar(peer_data.keys(), peer_data.values())\n",
    "    ax.set_title(\"P/E Ratio Comparison\")\n",
    "    ax.set_ylabel(\"P/E Ratio\")\n",
    "    plt.show()\n",
    "\n",
    "# Example usage:\n",
    "compare_peers([\"AAPL\", \"MSFT\", \"GOOGL\"])"
   ]
  },
  {
   "metadata": {},
   "cell_type": "markdown",
   "source": "",
   "id": "d3e5ef7d9c16eaab"
  }
 ],
 "metadata": {
  "kernelspec": {
   "display_name": "Python 3",
   "language": "python",
   "name": "python3"
  },
  "language_info": {
   "codemirror_mode": {
    "name": "ipython",
    "version": 2
   },
   "file_extension": ".py",
   "mimetype": "text/x-python",
   "name": "python",
   "nbconvert_exporter": "python",
   "pygments_lexer": "ipython2",
   "version": "2.7.6"
  }
 },
 "nbformat": 4,
 "nbformat_minor": 5
}
