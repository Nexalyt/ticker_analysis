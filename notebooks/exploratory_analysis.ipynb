{
 "cells": [
  {
   "cell_type": "code",
   "execution_count": 1,
   "id": "6209a022",
   "metadata": {},
   "outputs": [],
   "source": [
    "import streamlit as st\n",
    "from matplotlib import pyplot as plt\n",
    "import yfinance as yf\n",
    "import pprint as pp\n",
    "from IPython.display import display, Markdown\n",
    "import pandas as pd\n",
    "\n",
    "from ticker_analysis.data import FetchStock, compare_peers"
   ]
  },
  {
   "cell_type": "code",
   "execution_count": 67,
   "id": "59c5c9ca",
   "metadata": {},
   "outputs": [
    {
     "name": "stdout",
     "output_type": "stream",
     "text": [
      "{'annual': 2023-09-30    96995000000.0\n",
      "2022-09-30    99803000000.0\n",
      "2021-09-30    94680000000.0\n",
      "2020-09-30    57411000000.0\n",
      "Name: Net Income, dtype: object,\n",
      " 'quarterly': 2024-06-30    21448000000.0\n",
      "2024-03-31    23636000000.0\n",
      "2023-12-31    33916000000.0\n",
      "2023-09-30    22956000000.0\n",
      "2023-06-30    19881000000.0\n",
      "2023-03-31              NaN\n",
      "2022-12-31              NaN\n",
      "Name: Net Income, dtype: object}\n",
      "{'Cost of Revenue': 2023-09-30    214137000000.0\n",
      "2022-09-30    223546000000.0\n",
      "2021-09-30    212981000000.0\n",
      "2020-09-30    169559000000.0\n",
      "Name: Cost Of Revenue, dtype: object,\n",
      " 'Gross Profit': 2023-09-30    169148000000.0\n",
      "2022-09-30    170782000000.0\n",
      "2021-09-30    152836000000.0\n",
      "2020-09-30    104956000000.0\n",
      "Name: Gross Profit, dtype: object,\n",
      " 'Net Income': 2023-09-30    96995000000.0\n",
      "2022-09-30    99803000000.0\n",
      "2021-09-30    94680000000.0\n",
      "2020-09-30    57411000000.0\n",
      "Name: Net Income, dtype: object,\n",
      " 'Operating Income': 2023-09-30    114301000000.0\n",
      "2022-09-30    119437000000.0\n",
      "2021-09-30    108949000000.0\n",
      "2020-09-30     66288000000.0\n",
      "Name: Operating Income, dtype: object,\n",
      " 'Research Development': 2023-09-30    29915000000.0\n",
      "2022-09-30    26251000000.0\n",
      "2021-09-30    21914000000.0\n",
      "2020-09-30    18752000000.0\n",
      "Name: Research And Development, dtype: object,\n",
      " 'Total Revenue': 2023-09-30    383285000000.0\n",
      "2022-09-30    394328000000.0\n",
      "2021-09-30    365817000000.0\n",
      "2020-09-30    274515000000.0\n",
      "Name: Total Revenue, dtype: object}\n"
     ]
    }
   ],
   "source": [
    "# Example usage:\n",
    "APPL = FetchStock(\"AAPL\")\n",
    "\n",
    "pp.pprint(APPL.earnings)\n",
    "pp.pprint(APPL.financials)"
   ]
  },
  {
   "cell_type": "code",
   "execution_count": 24,
   "id": "86863197",
   "metadata": {},
   "outputs": [
    {
     "data": {
      "text/plain": [
       "P/E Ratio                  34.476406\n",
       "P/B Ratio                  51.691010\n",
       "PEG Ratio                   3.040000\n",
       "Debt to Equity Ratio      151.862000\n",
       "Return on Equity (ROE)      1.605830\n",
       "dtype: float64"
      ]
     },
     "execution_count": 24,
     "metadata": {},
     "output_type": "execute_result"
    }
   ],
   "source": [
    "ratios = APPL.financial_ratios()\n",
    "pd.Series(ratios)\n"
   ]
  },
  {
   "cell_type": "code",
   "execution_count": 16,
   "id": "36ac4a4c",
   "metadata": {},
   "outputs": [
    {
     "data": {
      "text/markdown": [
       "Annual Net Income:"
      ],
      "text/plain": [
       "<IPython.core.display.Markdown object>"
      ]
     },
     "metadata": {},
     "output_type": "display_data"
    },
    {
     "name": "stdout",
     "output_type": "stream",
     "text": [
      "2023-09-30    96995000000.0\n",
      "2022-09-30    99803000000.0\n",
      "2021-09-30    94680000000.0\n",
      "2020-09-30    57411000000.0\n",
      "Name: Net Income, dtype: object\n"
     ]
    },
    {
     "data": {
      "text/markdown": [
       "\n",
       "Quarterly Net Income:"
      ],
      "text/plain": [
       "<IPython.core.display.Markdown object>"
      ]
     },
     "metadata": {},
     "output_type": "display_data"
    },
    {
     "name": "stdout",
     "output_type": "stream",
     "text": [
      "2024-06-30    21448000000.0\n",
      "2024-03-31    23636000000.0\n",
      "2023-12-31    33916000000.0\n",
      "2023-09-30    22956000000.0\n",
      "2023-06-30    19881000000.0\n",
      "2023-03-31              NaN\n",
      "2022-12-31              NaN\n",
      "Name: Net Income, dtype: object\n"
     ]
    }
   ],
   "source": [
    "net_income, quarterly_net_income = APPL.earnings_data()\n",
    "display(Markdown(\"Annual Net Income:\"))\n",
    "pp.pprint(net_income)\n",
    "display(Markdown(\"\\nQuarterly Net Income:\"))\n",
    "pp.pprint(quarterly_net_income)"
   ]
  },
  {
   "cell_type": "code",
   "execution_count": 7,
   "id": "d73ceb96",
   "metadata": {},
   "outputs": [
    {
     "data": {
      "text/plain": [
       "2024-06-30    21448000000.0\n",
       "2024-03-31    23636000000.0\n",
       "2023-12-31    33916000000.0\n",
       "2023-09-30    22956000000.0\n",
       "2023-06-30    19881000000.0\n",
       "2023-03-31              NaN\n",
       "2022-12-31              NaN\n",
       "Name: Net Income, dtype: object"
      ]
     },
     "execution_count": 7,
     "metadata": {},
     "output_type": "execute_result"
    }
   ],
   "source": [
    "APPL.revenue_data()"
   ]
  },
  {
   "cell_type": "code",
   "execution_count": 56,
   "id": "9157232c",
   "metadata": {},
   "outputs": [
    {
     "data": {
      "text/plain": [
       "{'AAPL': 34.476406, 'MSFT': 36.0, 'GOOGL': 23.985653}"
      ]
     },
     "execution_count": 56,
     "metadata": {},
     "output_type": "execute_result"
    }
   ],
   "source": [
    "# Example usage\n",
    "result = compare_peers([\"AAPL\", \"MSFT\", \"GOOGL\"])\n",
    "result"
   ]
  },
  {
   "cell_type": "markdown",
   "id": "becad16e",
   "metadata": {},
   "source": [
    "## Streamlit App for Predicting the Price of a stock"
   ]
  },
  {
   "cell_type": "code",
   "execution_count": 51,
   "id": "7d9db49f",
   "metadata": {},
   "outputs": [],
   "source": [
    "import streamlit as st\n",
    "\n",
    "\n",
    "ticker_symbol = \"APPL\"  # \"Earnings Reports\", \"Financial Ratios\", \"Revenue & Earnings Growth\", \"Peer Comparison\"\n",
    "\n",
    "# Peers\n",
    "PEERS = [\"AAPL\", \"MSFT\", \"GOOGL\"]\n",
    "\n",
    "analysis_options = [\"Earnings Reports\", \"Financial Ratios\", \"Revenue & Earnings Growth\", \"Peer Comparison\"]\n",
    "analysis_type = analysis_options[3]\n",
    "\n",
    "# Fetch stock data\n",
    "# stock = FetchStock(ticker_symbol)"
   ]
  },
  {
   "cell_type": "code",
   "execution_count": 55,
   "id": "50204019",
   "metadata": {},
   "outputs": [],
   "source": [
    "def compare_peers(peers):\n",
    "    return {\n",
    "        ticker_symbol: yf.Ticker(ticker_symbol).info.get('trailingPE')\n",
    "        for ticker_symbol in peers\n",
    "    }\n"
   ]
  },
  {
   "cell_type": "code",
   "execution_count": 62,
   "id": "f1f52041",
   "metadata": {},
   "outputs": [
    {
     "data": {
      "text/markdown": [
       "Peer Comparison for APPL"
      ],
      "text/plain": [
       "<IPython.core.display.Markdown object>"
      ]
     },
     "metadata": {},
     "output_type": "display_data"
    },
    {
     "name": "stdout",
     "output_type": "stream",
     "text": [
      "{'AAPL': 34.476406, 'GOOGL': 23.985653, 'MSFT': 36.0}\n"
     ]
    }
   ],
   "source": [
    "if analysis_type == \"Earnings Reports\":\n",
    "    net_income, quarterly_net_income = stock.earnings_data()\n",
    "    display(Markdown((f\"Earnings Data for {ticker_symbol}\")))\n",
    "    display(Markdown((\"Annual Net Income:\")))\n",
    "    display(net_income)\n",
    "    display(Markdown((\"Quarterly Net Income:\")))\n",
    "    display(quarterly_net_income)\n",
    "if analysis_type == \"Financial Ratios\":\n",
    "    display(Markdown((f\"Financial Ratios for {ticker_symbol}\")))\n",
    "    pp.pprint(stock.financial_ratios())  # Display financial ratios\n",
    "if analysis_type == \"Revenue & Earnings Growth\":\n",
    "    revenue_data = stock.revenue_data()\n",
    "    display(Markdown((f\"Revenue Data for {ticker_symbol}\")))\n",
    "    display(Markdown(\"Annual Revenue:\"))\n",
    "    pp.pprint(revenue_data['annual_revenue'])\n",
    "    display(Markdown(\"Annual Net Income:\"))\n",
    "    pp.pprint(revenue_data['annual_net_income'])\n",
    "    display(Markdown(\"Quarterly Revenue:\"))\n",
    "    pp.pprint(revenue_data['quarterly_revenue'])\n",
    "    display(Markdown(\"Quarterly Net Income:\"))\n",
    "    pp.pprint(revenue_data['quarterly_net_income'])\n",
    "if analysis_type == \"Peer Comparison\":\n",
    "    peers_data = compare_peers(PEERS)  # Compare with peers\n",
    "    display(Markdown((f\"Peer Comparison for {ticker_symbol}\")))\n",
    "    pp.pprint(peers_data)"
   ]
  },
  {
   "cell_type": "markdown",
   "id": "d3e5ef7d9c16eaab",
   "metadata": {},
   "source": []
  },
  {
   "cell_type": "code",
   "execution_count": 75,
   "id": "2c3dc0a7",
   "metadata": {},
   "outputs": [
    {
     "data": {
      "text/html": [
       "<div>\n",
       "<style scoped>\n",
       "    .dataframe tbody tr th:only-of-type {\n",
       "        vertical-align: middle;\n",
       "    }\n",
       "\n",
       "    .dataframe tbody tr th {\n",
       "        vertical-align: top;\n",
       "    }\n",
       "\n",
       "    .dataframe thead th {\n",
       "        text-align: right;\n",
       "    }\n",
       "</style>\n",
       "<table border=\"1\" class=\"dataframe\">\n",
       "  <thead>\n",
       "    <tr style=\"text-align: right;\">\n",
       "      <th></th>\n",
       "      <th>EPS Estimate</th>\n",
       "      <th>Reported EPS</th>\n",
       "      <th>Surprise(%)</th>\n",
       "    </tr>\n",
       "    <tr>\n",
       "      <th>Earnings Date</th>\n",
       "      <th></th>\n",
       "      <th></th>\n",
       "      <th></th>\n",
       "    </tr>\n",
       "  </thead>\n",
       "  <tbody>\n",
       "    <tr>\n",
       "      <th>2025-07-30 06:00:00-04:00</th>\n",
       "      <td>NaN</td>\n",
       "      <td>NaN</td>\n",
       "      <td>NaN</td>\n",
       "    </tr>\n",
       "    <tr>\n",
       "      <th>2025-04-30 06:00:00-04:00</th>\n",
       "      <td>NaN</td>\n",
       "      <td>NaN</td>\n",
       "      <td>NaN</td>\n",
       "    </tr>\n",
       "    <tr>\n",
       "      <th>2025-01-30 16:00:00-05:00</th>\n",
       "      <td>NaN</td>\n",
       "      <td>NaN</td>\n",
       "      <td>NaN</td>\n",
       "    </tr>\n",
       "    <tr>\n",
       "      <th>2024-10-31 06:00:00-04:00</th>\n",
       "      <td>1.59</td>\n",
       "      <td>NaN</td>\n",
       "      <td>NaN</td>\n",
       "    </tr>\n",
       "    <tr>\n",
       "      <th>2024-08-01 16:00:00-04:00</th>\n",
       "      <td>1.35</td>\n",
       "      <td>1.40</td>\n",
       "      <td>0.0401</td>\n",
       "    </tr>\n",
       "    <tr>\n",
       "      <th>2024-05-02 16:00:00-04:00</th>\n",
       "      <td>1.50</td>\n",
       "      <td>1.53</td>\n",
       "      <td>0.0197</td>\n",
       "    </tr>\n",
       "    <tr>\n",
       "      <th>2024-02-01 16:00:00-05:00</th>\n",
       "      <td>2.10</td>\n",
       "      <td>2.18</td>\n",
       "      <td>0.0390</td>\n",
       "    </tr>\n",
       "    <tr>\n",
       "      <th>2023-11-02 16:00:00-04:00</th>\n",
       "      <td>1.39</td>\n",
       "      <td>1.46</td>\n",
       "      <td>0.0492</td>\n",
       "    </tr>\n",
       "    <tr>\n",
       "      <th>2023-08-03 16:00:00-04:00</th>\n",
       "      <td>1.19</td>\n",
       "      <td>1.26</td>\n",
       "      <td>0.0549</td>\n",
       "    </tr>\n",
       "    <tr>\n",
       "      <th>2023-05-04 16:00:00-04:00</th>\n",
       "      <td>1.43</td>\n",
       "      <td>1.52</td>\n",
       "      <td>0.0603</td>\n",
       "    </tr>\n",
       "    <tr>\n",
       "      <th>2023-02-02 16:00:00-05:00</th>\n",
       "      <td>1.94</td>\n",
       "      <td>1.88</td>\n",
       "      <td>-0.0288</td>\n",
       "    </tr>\n",
       "    <tr>\n",
       "      <th>2022-10-27 16:00:00-04:00</th>\n",
       "      <td>1.27</td>\n",
       "      <td>1.29</td>\n",
       "      <td>0.0155</td>\n",
       "    </tr>\n",
       "  </tbody>\n",
       "</table>\n",
       "</div>"
      ],
      "text/plain": [
       "                           EPS Estimate  Reported EPS  Surprise(%)\n",
       "Earnings Date                                                     \n",
       "2025-07-30 06:00:00-04:00           NaN           NaN          NaN\n",
       "2025-04-30 06:00:00-04:00           NaN           NaN          NaN\n",
       "2025-01-30 16:00:00-05:00           NaN           NaN          NaN\n",
       "2024-10-31 06:00:00-04:00          1.59           NaN          NaN\n",
       "2024-08-01 16:00:00-04:00          1.35          1.40       0.0401\n",
       "2024-05-02 16:00:00-04:00          1.50          1.53       0.0197\n",
       "2024-02-01 16:00:00-05:00          2.10          2.18       0.0390\n",
       "2023-11-02 16:00:00-04:00          1.39          1.46       0.0492\n",
       "2023-08-03 16:00:00-04:00          1.19          1.26       0.0549\n",
       "2023-05-04 16:00:00-04:00          1.43          1.52       0.0603\n",
       "2023-02-02 16:00:00-05:00          1.94          1.88      -0.0288\n",
       "2022-10-27 16:00:00-04:00          1.27          1.29       0.0155"
      ]
     },
     "execution_count": 75,
     "metadata": {},
     "output_type": "execute_result"
    }
   ],
   "source": [
    "objeto_ticker = yf.Ticker(\"AAPL\")\n",
    "objeto_ticker.earnings_dates"
   ]
  }
 ],
 "metadata": {
  "kernelspec": {
   "display_name": "Python 3",
   "language": "python",
   "name": "python3"
  },
  "language_info": {
   "codemirror_mode": {
    "name": "ipython",
    "version": 3
   },
   "file_extension": ".py",
   "mimetype": "text/x-python",
   "name": "python",
   "nbconvert_exporter": "python",
   "pygments_lexer": "ipython3",
   "version": "3.10.14"
  }
 },
 "nbformat": 4,
 "nbformat_minor": 5
}
